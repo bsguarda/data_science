{
  "nbformat": 4,
  "nbformat_minor": 0,
  "metadata": {
    "colab": {
      "name": "Detecção de Fraudes em cartão de crédito.ipynb",
      "provenance": [],
      "collapsed_sections": [],
      "authorship_tag": "ABX9TyNyS4HxHhFI9z0JpgjIKhr7",
      "include_colab_link": true
    },
    "kernelspec": {
      "name": "python3",
      "display_name": "Python 3"
    },
    "language_info": {
      "name": "python"
    }
  },
  "cells": [
    {
      "cell_type": "markdown",
      "metadata": {
        "id": "view-in-github",
        "colab_type": "text"
      },
      "source": [
        "<a href=\"https://colab.research.google.com/github/bsguarda/data_science/blob/main/Detec%C3%A7%C3%A3o_de_Fraudes_em_cart%C3%A3o_de_cr%C3%A9dito.ipynb\" target=\"_parent\"><img src=\"https://colab.research.google.com/assets/colab-badge.svg\" alt=\"Open In Colab\"/></a>"
      ]
    },
    {
      "cell_type": "markdown",
      "source": [
        "# Detecção de Fraude em Cartões de Crédito\n",
        "\n",
        "O crescimento das compras on-line e o avanço do uso dos meios digitais  trouxeram um dos problemas mais vivenciados pelas instituições financeiras como bancos e fintechs nos dias atuais. Os e-commerces são os meios no qual os criminosos atuam com maior força, no Brasil nos últimos 12 meses cerca de 59% dos consumidores já sofreram algum tipo de fraude financeira, o que corresponde a cerca de 16,7 milhões de brasileiros, somando cerca de 2,7 bilhões de reais em prejuízo.\n",
        "\n",
        "<p align=center>\n",
        "<img src=\"https://thecompassbr.com/wp-content/uploads/2021/07/Mao-saindo-de-um-notebook-com-cartao-na-mao-inserindo-ele-em-uma-carteira.png\" width=\"80%\"></p>\n",
        "\n",
        "\n",
        "As fraudes relacionadas a cartão de crédito são bem significativas tanto para instituição quanto para o consumidor, tendo em vista que o prejuízo nos episódios de tentativas que não foram detectadas é bem considerável.\n",
        "Outro viés seria os episódios de falsa detecção em alta escala, ou seja, quantas compras foram negadas e tiveram os cartões bloqueados em caráter preventivo, levando ao constrangimento e irritação por parte dos clientes.\n",
        "\n",
        "Esses problemas trouxeram grandes oportunidades para o ramo da Data Science, trazendo investimentos na área de detecção de fraudes através da Inteligência artificial.\n",
        "\n",
        "Hoje um grande volume de dados está disponível e podem ser processados pelos algoritmos de Machine Lerning, trazendo melhores modelos de detecção de fraudes que acarretará em uma economia de milhões de reais.   \n"
      ],
      "metadata": {
        "id": "P5hh25rRor3G"
      }
    },
    {
      "cell_type": "markdown",
      "source": [
        "#Importando dados\n",
        "\n",
        "Nesse projeto iremos utilizar os dados que foram disponibilizados por algumas instituições europeias de cartões de crédito e podem ser acessados pela [Kaggle](https://www.kaggle.com/mlg-ulb/creditcardfraud). Iremos verificar nesse dataset foram coletados em 2 dias, onde no meio de 290 mil transações foram classificadas 492 fraudes, ou seja, as fraudes representam 0,17% dessa quantidade de transações, o que denota um dataset bem desbalanceado.\n",
        "\n",
        "Essa dados foram passados por uma transformação denominada de Análise de Componentes Principais (Principal Component Analysis – PCA). O PCA permite diminuir a dimensionalidade mantendo o maior número de informações possíveis e para conseguir isso o algoritmo encontra um conjunto novo de recursos chamados de componentes.\n",
        "Esses componentes são menores ou iguais em número ao das variáveis originais. Nesse caso iremos ver que os componentes achados pela transformação do PCA são as próprias colunas e $[V1, V2, V3, ...,V31]$.\n",
        "\n",
        "<p align=center>\n",
        "<img src=\"https://news.comschool.com.br/wp-content/uploads/2014/08/iStock-901609212-1024x678.jpg\" width=\"50%\"></p>"
      ],
      "metadata": {
        "id": "E9ScipAG5snX"
      }
    },
    {
      "cell_type": "code",
      "execution_count": 64,
      "metadata": {
        "id": "MlNZEfKZDeJh"
      },
      "outputs": [],
      "source": [
        "#Importando as bibliotecas \n",
        "import pandas as pd\n",
        "import numpy as np\n",
        "import random\n",
        "import seaborn as sns\n",
        "import matplotlib.pyplot as plt\n",
        "from sklearn.model_selection import train_test_split\n",
        "from sklearn.ensemble import RandomForestClassifier\n",
        "from sklearn.metrics import accuracy_score\n",
        "from sklearn.linear_model import LogisticRegression\n",
        "from sklearn.metrics import classification_report\n",
        "from sklearn.metrics import confusion_matrix\n",
        "from sklearn.preprocessing import StandardScaler\n"
      ]
    },
    {
      "cell_type": "code",
      "source": [
        "#Importando o dataset e tranformando em dataframe\n",
        "dataset = pd.read_csv(\"https://www.dropbox.com/s/b44o3t3ehmnx2b7/creditcard.csv?dl=1\")"
      ],
      "metadata": {
        "id": "DvXw2RQ9Dp5f"
      },
      "execution_count": 65,
      "outputs": []
    },
    {
      "cell_type": "code",
      "source": [
        "#Verificando o numeor de linha e de variaveis\n",
        "print(f'O dataset tem\\n {dataset.shape[0]} linhas\\n {dataset.shape[1]} colunas')"
      ],
      "metadata": {
        "colab": {
          "base_uri": "https://localhost:8080/"
        },
        "id": "3_t-hSQpDp8y",
        "outputId": "c1200151-a018-44bd-8f48-fea6e92aaf6c"
      },
      "execution_count": 66,
      "outputs": [
        {
          "output_type": "stream",
          "name": "stdout",
          "text": [
            "O dataset tem\n",
            " 284807 linhas\n",
            " 31 colunas\n"
          ]
        }
      ]
    },
    {
      "cell_type": "code",
      "source": [
        "#Verificando as 5 primiras linha do dataset\n",
        "dataset.head()"
      ],
      "metadata": {
        "colab": {
          "base_uri": "https://localhost:8080/",
          "height": 236
        },
        "id": "FgOrPCOoDwIB",
        "outputId": "5f972f62-fae0-4187-faff-9f4e4be608d1"
      },
      "execution_count": 67,
      "outputs": [
        {
          "output_type": "execute_result",
          "data": {
            "text/plain": [
              "   Time        V1        V2        V3        V4        V5        V6        V7  \\\n",
              "0   0.0 -1.359807 -0.072781  2.536347  1.378155 -0.338321  0.462388  0.239599   \n",
              "1   0.0  1.191857  0.266151  0.166480  0.448154  0.060018 -0.082361 -0.078803   \n",
              "2   1.0 -1.358354 -1.340163  1.773209  0.379780 -0.503198  1.800499  0.791461   \n",
              "3   1.0 -0.966272 -0.185226  1.792993 -0.863291 -0.010309  1.247203  0.237609   \n",
              "4   2.0 -1.158233  0.877737  1.548718  0.403034 -0.407193  0.095921  0.592941   \n",
              "\n",
              "         V8        V9  ...       V21       V22       V23       V24       V25  \\\n",
              "0  0.098698  0.363787  ... -0.018307  0.277838 -0.110474  0.066928  0.128539   \n",
              "1  0.085102 -0.255425  ... -0.225775 -0.638672  0.101288 -0.339846  0.167170   \n",
              "2  0.247676 -1.514654  ...  0.247998  0.771679  0.909412 -0.689281 -0.327642   \n",
              "3  0.377436 -1.387024  ... -0.108300  0.005274 -0.190321 -1.175575  0.647376   \n",
              "4 -0.270533  0.817739  ... -0.009431  0.798278 -0.137458  0.141267 -0.206010   \n",
              "\n",
              "        V26       V27       V28  Amount  Class  \n",
              "0 -0.189115  0.133558 -0.021053  149.62      0  \n",
              "1  0.125895 -0.008983  0.014724    2.69      0  \n",
              "2 -0.139097 -0.055353 -0.059752  378.66      0  \n",
              "3 -0.221929  0.062723  0.061458  123.50      0  \n",
              "4  0.502292  0.219422  0.215153   69.99      0  \n",
              "\n",
              "[5 rows x 31 columns]"
            ],
            "text/html": [
              "\n",
              "  <div id=\"df-d9e0e541-a8ca-42a0-b864-82388eeb3671\">\n",
              "    <div class=\"colab-df-container\">\n",
              "      <div>\n",
              "<style scoped>\n",
              "    .dataframe tbody tr th:only-of-type {\n",
              "        vertical-align: middle;\n",
              "    }\n",
              "\n",
              "    .dataframe tbody tr th {\n",
              "        vertical-align: top;\n",
              "    }\n",
              "\n",
              "    .dataframe thead th {\n",
              "        text-align: right;\n",
              "    }\n",
              "</style>\n",
              "<table border=\"1\" class=\"dataframe\">\n",
              "  <thead>\n",
              "    <tr style=\"text-align: right;\">\n",
              "      <th></th>\n",
              "      <th>Time</th>\n",
              "      <th>V1</th>\n",
              "      <th>V2</th>\n",
              "      <th>V3</th>\n",
              "      <th>V4</th>\n",
              "      <th>V5</th>\n",
              "      <th>V6</th>\n",
              "      <th>V7</th>\n",
              "      <th>V8</th>\n",
              "      <th>V9</th>\n",
              "      <th>...</th>\n",
              "      <th>V21</th>\n",
              "      <th>V22</th>\n",
              "      <th>V23</th>\n",
              "      <th>V24</th>\n",
              "      <th>V25</th>\n",
              "      <th>V26</th>\n",
              "      <th>V27</th>\n",
              "      <th>V28</th>\n",
              "      <th>Amount</th>\n",
              "      <th>Class</th>\n",
              "    </tr>\n",
              "  </thead>\n",
              "  <tbody>\n",
              "    <tr>\n",
              "      <th>0</th>\n",
              "      <td>0.0</td>\n",
              "      <td>-1.359807</td>\n",
              "      <td>-0.072781</td>\n",
              "      <td>2.536347</td>\n",
              "      <td>1.378155</td>\n",
              "      <td>-0.338321</td>\n",
              "      <td>0.462388</td>\n",
              "      <td>0.239599</td>\n",
              "      <td>0.098698</td>\n",
              "      <td>0.363787</td>\n",
              "      <td>...</td>\n",
              "      <td>-0.018307</td>\n",
              "      <td>0.277838</td>\n",
              "      <td>-0.110474</td>\n",
              "      <td>0.066928</td>\n",
              "      <td>0.128539</td>\n",
              "      <td>-0.189115</td>\n",
              "      <td>0.133558</td>\n",
              "      <td>-0.021053</td>\n",
              "      <td>149.62</td>\n",
              "      <td>0</td>\n",
              "    </tr>\n",
              "    <tr>\n",
              "      <th>1</th>\n",
              "      <td>0.0</td>\n",
              "      <td>1.191857</td>\n",
              "      <td>0.266151</td>\n",
              "      <td>0.166480</td>\n",
              "      <td>0.448154</td>\n",
              "      <td>0.060018</td>\n",
              "      <td>-0.082361</td>\n",
              "      <td>-0.078803</td>\n",
              "      <td>0.085102</td>\n",
              "      <td>-0.255425</td>\n",
              "      <td>...</td>\n",
              "      <td>-0.225775</td>\n",
              "      <td>-0.638672</td>\n",
              "      <td>0.101288</td>\n",
              "      <td>-0.339846</td>\n",
              "      <td>0.167170</td>\n",
              "      <td>0.125895</td>\n",
              "      <td>-0.008983</td>\n",
              "      <td>0.014724</td>\n",
              "      <td>2.69</td>\n",
              "      <td>0</td>\n",
              "    </tr>\n",
              "    <tr>\n",
              "      <th>2</th>\n",
              "      <td>1.0</td>\n",
              "      <td>-1.358354</td>\n",
              "      <td>-1.340163</td>\n",
              "      <td>1.773209</td>\n",
              "      <td>0.379780</td>\n",
              "      <td>-0.503198</td>\n",
              "      <td>1.800499</td>\n",
              "      <td>0.791461</td>\n",
              "      <td>0.247676</td>\n",
              "      <td>-1.514654</td>\n",
              "      <td>...</td>\n",
              "      <td>0.247998</td>\n",
              "      <td>0.771679</td>\n",
              "      <td>0.909412</td>\n",
              "      <td>-0.689281</td>\n",
              "      <td>-0.327642</td>\n",
              "      <td>-0.139097</td>\n",
              "      <td>-0.055353</td>\n",
              "      <td>-0.059752</td>\n",
              "      <td>378.66</td>\n",
              "      <td>0</td>\n",
              "    </tr>\n",
              "    <tr>\n",
              "      <th>3</th>\n",
              "      <td>1.0</td>\n",
              "      <td>-0.966272</td>\n",
              "      <td>-0.185226</td>\n",
              "      <td>1.792993</td>\n",
              "      <td>-0.863291</td>\n",
              "      <td>-0.010309</td>\n",
              "      <td>1.247203</td>\n",
              "      <td>0.237609</td>\n",
              "      <td>0.377436</td>\n",
              "      <td>-1.387024</td>\n",
              "      <td>...</td>\n",
              "      <td>-0.108300</td>\n",
              "      <td>0.005274</td>\n",
              "      <td>-0.190321</td>\n",
              "      <td>-1.175575</td>\n",
              "      <td>0.647376</td>\n",
              "      <td>-0.221929</td>\n",
              "      <td>0.062723</td>\n",
              "      <td>0.061458</td>\n",
              "      <td>123.50</td>\n",
              "      <td>0</td>\n",
              "    </tr>\n",
              "    <tr>\n",
              "      <th>4</th>\n",
              "      <td>2.0</td>\n",
              "      <td>-1.158233</td>\n",
              "      <td>0.877737</td>\n",
              "      <td>1.548718</td>\n",
              "      <td>0.403034</td>\n",
              "      <td>-0.407193</td>\n",
              "      <td>0.095921</td>\n",
              "      <td>0.592941</td>\n",
              "      <td>-0.270533</td>\n",
              "      <td>0.817739</td>\n",
              "      <td>...</td>\n",
              "      <td>-0.009431</td>\n",
              "      <td>0.798278</td>\n",
              "      <td>-0.137458</td>\n",
              "      <td>0.141267</td>\n",
              "      <td>-0.206010</td>\n",
              "      <td>0.502292</td>\n",
              "      <td>0.219422</td>\n",
              "      <td>0.215153</td>\n",
              "      <td>69.99</td>\n",
              "      <td>0</td>\n",
              "    </tr>\n",
              "  </tbody>\n",
              "</table>\n",
              "<p>5 rows × 31 columns</p>\n",
              "</div>\n",
              "      <button class=\"colab-df-convert\" onclick=\"convertToInteractive('df-d9e0e541-a8ca-42a0-b864-82388eeb3671')\"\n",
              "              title=\"Convert this dataframe to an interactive table.\"\n",
              "              style=\"display:none;\">\n",
              "        \n",
              "  <svg xmlns=\"http://www.w3.org/2000/svg\" height=\"24px\"viewBox=\"0 0 24 24\"\n",
              "       width=\"24px\">\n",
              "    <path d=\"M0 0h24v24H0V0z\" fill=\"none\"/>\n",
              "    <path d=\"M18.56 5.44l.94 2.06.94-2.06 2.06-.94-2.06-.94-.94-2.06-.94 2.06-2.06.94zm-11 1L8.5 8.5l.94-2.06 2.06-.94-2.06-.94L8.5 2.5l-.94 2.06-2.06.94zm10 10l.94 2.06.94-2.06 2.06-.94-2.06-.94-.94-2.06-.94 2.06-2.06.94z\"/><path d=\"M17.41 7.96l-1.37-1.37c-.4-.4-.92-.59-1.43-.59-.52 0-1.04.2-1.43.59L10.3 9.45l-7.72 7.72c-.78.78-.78 2.05 0 2.83L4 21.41c.39.39.9.59 1.41.59.51 0 1.02-.2 1.41-.59l7.78-7.78 2.81-2.81c.8-.78.8-2.07 0-2.86zM5.41 20L4 18.59l7.72-7.72 1.47 1.35L5.41 20z\"/>\n",
              "  </svg>\n",
              "      </button>\n",
              "      \n",
              "  <style>\n",
              "    .colab-df-container {\n",
              "      display:flex;\n",
              "      flex-wrap:wrap;\n",
              "      gap: 12px;\n",
              "    }\n",
              "\n",
              "    .colab-df-convert {\n",
              "      background-color: #E8F0FE;\n",
              "      border: none;\n",
              "      border-radius: 50%;\n",
              "      cursor: pointer;\n",
              "      display: none;\n",
              "      fill: #1967D2;\n",
              "      height: 32px;\n",
              "      padding: 0 0 0 0;\n",
              "      width: 32px;\n",
              "    }\n",
              "\n",
              "    .colab-df-convert:hover {\n",
              "      background-color: #E2EBFA;\n",
              "      box-shadow: 0px 1px 2px rgba(60, 64, 67, 0.3), 0px 1px 3px 1px rgba(60, 64, 67, 0.15);\n",
              "      fill: #174EA6;\n",
              "    }\n",
              "\n",
              "    [theme=dark] .colab-df-convert {\n",
              "      background-color: #3B4455;\n",
              "      fill: #D2E3FC;\n",
              "    }\n",
              "\n",
              "    [theme=dark] .colab-df-convert:hover {\n",
              "      background-color: #434B5C;\n",
              "      box-shadow: 0px 1px 3px 1px rgba(0, 0, 0, 0.15);\n",
              "      filter: drop-shadow(0px 1px 2px rgba(0, 0, 0, 0.3));\n",
              "      fill: #FFFFFF;\n",
              "    }\n",
              "  </style>\n",
              "\n",
              "      <script>\n",
              "        const buttonEl =\n",
              "          document.querySelector('#df-d9e0e541-a8ca-42a0-b864-82388eeb3671 button.colab-df-convert');\n",
              "        buttonEl.style.display =\n",
              "          google.colab.kernel.accessAllowed ? 'block' : 'none';\n",
              "\n",
              "        async function convertToInteractive(key) {\n",
              "          const element = document.querySelector('#df-d9e0e541-a8ca-42a0-b864-82388eeb3671');\n",
              "          const dataTable =\n",
              "            await google.colab.kernel.invokeFunction('convertToInteractive',\n",
              "                                                     [key], {});\n",
              "          if (!dataTable) return;\n",
              "\n",
              "          const docLinkHtml = 'Like what you see? Visit the ' +\n",
              "            '<a target=\"_blank\" href=https://colab.research.google.com/notebooks/data_table.ipynb>data table notebook</a>'\n",
              "            + ' to learn more about interactive tables.';\n",
              "          element.innerHTML = '';\n",
              "          dataTable['output_type'] = 'display_data';\n",
              "          await google.colab.output.renderOutput(dataTable, element);\n",
              "          const docLink = document.createElement('div');\n",
              "          docLink.innerHTML = docLinkHtml;\n",
              "          element.appendChild(docLink);\n",
              "        }\n",
              "      </script>\n",
              "    </div>\n",
              "  </div>\n",
              "  "
            ]
          },
          "metadata": {},
          "execution_count": 67
        }
      ]
    },
    {
      "cell_type": "code",
      "source": [
        "#Verificando a variavel class que é target a quantidade de cada classe\n",
        "np.unique(dataset['Class'], return_counts=True)"
      ],
      "metadata": {
        "colab": {
          "base_uri": "https://localhost:8080/"
        },
        "id": "S1g0gk2RDwNL",
        "outputId": "6659de5c-4e4d-4ba1-dc05-2599892655e4"
      },
      "execution_count": 71,
      "outputs": [
        {
          "output_type": "execute_result",
          "data": {
            "text/plain": [
              "(array([0, 1]), array([284315,    492]))"
            ]
          },
          "metadata": {},
          "execution_count": 71
        }
      ]
    },
    {
      "cell_type": "markdown",
      "source": [
        "Iremos plotar o gráfico de barras com a variável `Class` e veremos que ela está bem desbalanceada. Temos que dos 284.807 registros e 284.315 foram classificados como não sendo fraude e 492 sendo fraude. O valor zero está atribuído ao registro que não foi classificado como fraude e o valor 1 está atribuído ao registro que foi classificado como fraude."
      ],
      "metadata": {
        "id": "V1Y7k_B0Hq4F"
      }
    },
    {
      "cell_type": "code",
      "source": [
        "#Plotando um gráfico com a variavel classe\n",
        "sns.countplot(dataset['Class']);"
      ],
      "metadata": {
        "colab": {
          "base_uri": "https://localhost:8080/",
          "height": 334
        },
        "id": "iOLy7zA3DwTd",
        "outputId": "e64a8121-886f-4bef-8d39-0531f06a0e2a"
      },
      "execution_count": 79,
      "outputs": [
        {
          "output_type": "stream",
          "name": "stderr",
          "text": [
            "/usr/local/lib/python3.7/dist-packages/seaborn/_decorators.py:43: FutureWarning: Pass the following variable as a keyword arg: x. From version 0.12, the only valid positional argument will be `data`, and passing other arguments without an explicit keyword will result in an error or misinterpretation.\n",
            "  FutureWarning\n"
          ]
        },
        {
          "output_type": "display_data",
          "data": {
            "text/plain": [
              "<Figure size 432x288 with 1 Axes>"
            ],
            "image/png": "[encoded data removed]"
          },
          "metadata": {
            "needs_background": "light"
          }
        }
      ]
    },
    {
      "cell_type": "markdown",
      "source": [
        "Como podemos ver no dataset existe 2 variáveis que não estão normalizadas podendo interferir durante o processamento dos dados e trazer um algoritmo ineficiente ou com resultados equivocados.\n",
        "\n",
        "As variáveis são as seguintes:\n",
        "\n",
        "`Time` que é o tempo em segundos entre a transação atual e a primeira transação;\n",
        "\n",
        "`Amount` que é o valor da transação\n",
        "\n",
        "Em resumo a normalização consiste na remodelagem de variáveis numéricas em uma escala padrão, neste caso entre 0 e 1.\n",
        "\n",
        "Iremos padronizar esses dados mais adiante com o método `StandardScale`"
      ],
      "metadata": {
        "id": "8pSxgqdkLyd2"
      }
    },
    {
      "cell_type": "markdown",
      "source": [
        "###Nessa fase do projeto iremos fazer as seguintes etapas:\n",
        "\n",
        "* Dividir os dados em matriz de treinamento e seu Target;\n",
        "* Escalonar os dados em treino e teste;"
      ],
      "metadata": {
        "id": "VL23rG-klkTJ"
      }
    },
    {
      "cell_type": "code",
      "source": [
        "#Dividindo os dados entre matriz de treinamento e target\n",
        "X = dataset.drop('Class', axis=1) #Matriz de treinamento\n",
        "y = dataset['Class'] #Target"
      ],
      "metadata": {
        "id": "ijk1vHM5FKt6"
      },
      "execution_count": 87,
      "outputs": []
    },
    {
      "cell_type": "code",
      "source": [
        "#Escalonando os dados em dados de treino e dados de teste\n",
        "X_treinamento, X_teste, y_treinamento, y_teste = train_test_split(X, y)"
      ],
      "metadata": {
        "id": "qwXiClwiJF5O"
      },
      "execution_count": 88,
      "outputs": []
    },
    {
      "cell_type": "code",
      "source": [
        "#Verificando a divisão dos dados após escalonamento\n",
        "X_treinamento.shape, y_treinamento.shape, X_teste.shape, y_teste.shape"
      ],
      "metadata": {
        "colab": {
          "base_uri": "https://localhost:8080/"
        },
        "id": "6vdmkXqUKN-l",
        "outputId": "4d7b8d22-bc26-4754-b467-3ef61119e014"
      },
      "execution_count": 91,
      "outputs": [
        {
          "output_type": "execute_result",
          "data": {
            "text/plain": [
              "((213605, 30), (213605,), (71202, 30), (71202,))"
            ]
          },
          "metadata": {},
          "execution_count": 91
        }
      ]
    },
    {
      "cell_type": "markdown",
      "source": [
        "#Usando o Random Forest com os dados brutos (desbalanceados).\n",
        "\n",
        "* Treinar o modelo usando o Random Forest;\n",
        "* Avaliar o modelo usando o Accuracy Score;\n",
        "* Avaliar o modelo com Classification Report;\n",
        "* Plotar a Matriz de confusão dos valores previstos e os valores reais.\n",
        "\n"
      ],
      "metadata": {
        "id": "--GZoHQdi577"
      }
    },
    {
      "cell_type": "code",
      "source": [
        "#Treinando o modelo usando o Random Forest\n",
        "modelo = RandomForestClassifier()\n",
        "modelo.fit(X_treinamento, y_treinamento)"
      ],
      "metadata": {
        "colab": {
          "base_uri": "https://localhost:8080/"
        },
        "id": "Q1l5pdQ0KOF6",
        "outputId": "f82a9861-16d8-4c19-cac3-64500090641b"
      },
      "execution_count": 90,
      "outputs": [
        {
          "output_type": "execute_result",
          "data": {
            "text/plain": [
              "RandomForestClassifier()"
            ]
          },
          "metadata": {},
          "execution_count": 90
        }
      ]
    },
    {
      "cell_type": "code",
      "source": [
        "#Avaliando o modelo com o Accuracy Score\n",
        "previsoes = modelo.predict(X_teste)\n",
        "accuracy_score(previsoes, y_teste)"
      ],
      "metadata": {
        "colab": {
          "base_uri": "https://localhost:8080/"
        },
        "id": "QdWgXAqpLUR3",
        "outputId": "92379c5f-5036-4cb1-855c-5bf80b1406be"
      },
      "execution_count": 92,
      "outputs": [
        {
          "output_type": "execute_result",
          "data": {
            "text/plain": [
              "0.9995365298727564"
            ]
          },
          "metadata": {},
          "execution_count": 92
        }
      ]
    },
    {
      "cell_type": "code",
      "source": [
        "#Avaliando com Classification Report\n",
        "print(classification_report(y_teste, previsoes))"
      ],
      "metadata": {
        "colab": {
          "base_uri": "https://localhost:8080/"
        },
        "id": "MlgRHpP49eZu",
        "outputId": "5d71b7e6-8d42-480d-8a33-3913b373eafe"
      },
      "execution_count": 142,
      "outputs": [
        {
          "output_type": "stream",
          "name": "stdout",
          "text": [
            "              precision    recall  f1-score   support\n",
            "\n",
            "           0       1.00      1.00      1.00     71076\n",
            "           1       0.92      0.81      0.86       126\n",
            "\n",
            "    accuracy                           1.00     71202\n",
            "   macro avg       0.96      0.90      0.93     71202\n",
            "weighted avg       1.00      1.00      1.00     71202\n",
            "\n"
          ]
        }
      ]
    },
    {
      "cell_type": "code",
      "source": [
        "#Plotando a matriz de confusão\n",
        "fig, ax = plt.subplots()\n",
        "ax = sns.heatmap(confusion_matrix(y_teste, previsoes), annot=True, square=True, cbar=False, fmt='.0f', ax=ax,  cmap='flag')\n",
        "plt.title('Matriz de Confusão')\n",
        "plt.xlabel('Previsão do modelo')\n",
        "plt.ylabel('Valor verdadeiro')\n",
        "plt.show()"
      ],
      "metadata": {
        "colab": {
          "base_uri": "https://localhost:8080/",
          "height": 295
        },
        "id": "iJfQCY4BoEH2",
        "outputId": "1ea37f13-df1e-44c1-ccd3-dd51d12d0b1e"
      },
      "execution_count": 98,
      "outputs": [
        {
          "output_type": "display_data",
          "data": {
            "text/plain": [
              "<Figure size 432x288 with 1 Axes>"
            ],
            "image/png": "[encoded data removed]"
          },
          "metadata": {
            "needs_background": "light"
          }
        }
      ]
    },
    {
      "cell_type": "markdown",
      "source": [
        "#Usando o Regressão Logística com os dados brutos (desbalanceados).\n",
        "\n",
        "* Treinar o modelo usando o Regressão Logística;\n",
        "* Avaliar o modelo usando o Accuracy Score;\n",
        "* Avaliar o modelo com Classification Report;\n",
        "* Plotar a Matriz de confusão dos valores previstos e os valores reais."
      ],
      "metadata": {
        "id": "v3ef9_iMN5qE"
      }
    },
    {
      "cell_type": "code",
      "source": [
        "#Treinando o modelo usando a Regressão Logística\n",
        "modelo_regressao = LogisticRegression()\n",
        "modelo_regressao.fit(X_treinamento, y_treinamento)"
      ],
      "metadata": {
        "id": "eqpH1C5SLUXy"
      },
      "execution_count": null,
      "outputs": []
    },
    {
      "cell_type": "code",
      "source": [
        "#Avaliando o modelo com o Accuracy Score\n",
        "previsoes_regressao = modelo_regressao.predict(X_teste)\n",
        "accuracy_score(previsoes_regressao, y_teste)"
      ],
      "metadata": {
        "colab": {
          "base_uri": "https://localhost:8080/"
        },
        "id": "OzpiTz3rLUeE",
        "outputId": "5276fc05-ee82-4a2b-f4f9-727a2480fee6"
      },
      "execution_count": 100,
      "outputs": [
        {
          "output_type": "execute_result",
          "data": {
            "text/plain": [
              "0.9989887924496503"
            ]
          },
          "metadata": {},
          "execution_count": 100
        }
      ]
    },
    {
      "cell_type": "code",
      "source": [
        "#Avaliando com Classification Report\n",
        "print(classification_report(y_teste, previsoes_regressao))"
      ],
      "metadata": {
        "colab": {
          "base_uri": "https://localhost:8080/"
        },
        "id": "a5D-Fq-G-Ayy",
        "outputId": "bc39eacf-9726-4133-c619-c88b60b1388a"
      },
      "execution_count": 143,
      "outputs": [
        {
          "output_type": "stream",
          "name": "stdout",
          "text": [
            "              precision    recall  f1-score   support\n",
            "\n",
            "           0       1.00      1.00      1.00     71076\n",
            "           1       0.72      0.71      0.71       126\n",
            "\n",
            "    accuracy                           1.00     71202\n",
            "   macro avg       0.86      0.85      0.86     71202\n",
            "weighted avg       1.00      1.00      1.00     71202\n",
            "\n"
          ]
        }
      ]
    },
    {
      "cell_type": "code",
      "source": [
        "#Plotando a matriz de confusão\n",
        "fig, ax = plt.subplots()\n",
        "ax = sns.heatmap(confusion_matrix(y_teste, previsoes_regressao), annot=True, square=True, cbar=False, fmt='.0f', ax=ax,  cmap='flag')\n",
        "plt.title('Matriz de Confusão')\n",
        "plt.xlabel('Previsão do modelo')\n",
        "plt.ylabel('Valor verdadeiro')\n",
        "plt.show()"
      ],
      "metadata": {
        "colab": {
          "base_uri": "https://localhost:8080/",
          "height": 295
        },
        "id": "afP4P3XmVNw6",
        "outputId": "2acc71bf-36af-4193-e942-fc57aa28e68d"
      },
      "execution_count": 101,
      "outputs": [
        {
          "output_type": "display_data",
          "data": {
            "text/plain": [
              "<Figure size 432x288 with 1 Axes>"
            ],
            "image/png": "[encoded data removed]"
          },
          "metadata": {
            "needs_background": "light"
          }
        }
      ]
    },
    {
      "cell_type": "markdown",
      "source": [
        "#Usando o parâmetro de subamostragem para balanceamento - TomekLinks\n",
        "\n",
        "Resumidamente esse modelo de balanceamento apaga alguns dos dados que estão muitos proximos fazendo um campo de classificação mais apurado.\n",
        "\n",
        "<p align=center><img src=\"https://raw.githubusercontent.com/rafjaa/machine_learning_fecib/master/src/static/img/tomek.png?v=2\" width=\"70%\"></p>\n"
      ],
      "metadata": {
        "id": "iC_opLfTPmZ7"
      }
    },
    {
      "cell_type": "code",
      "source": [
        "#Importando o pacote do TomekLinks\n",
        "from imblearn.under_sampling import TomekLinks"
      ],
      "metadata": {
        "id": "FlM80enhPRud"
      },
      "execution_count": 102,
      "outputs": []
    },
    {
      "cell_type": "code",
      "source": [
        "#Remodelando os dados\n",
        "tl = TomekLinks(sampling_strategy='majority')\n",
        "X_tomek , y_tomek = tl.fit_resample(X, y)"
      ],
      "metadata": {
        "id": "OBJ_R4DKPR1B"
      },
      "execution_count": 103,
      "outputs": []
    },
    {
      "cell_type": "code",
      "source": [
        "#Verificando os dados após balanceamento\n",
        "X_tomek.shape, y_tomek.shape"
      ],
      "metadata": {
        "colab": {
          "base_uri": "https://localhost:8080/"
        },
        "id": "5z5Sol7EQMrT",
        "outputId": "0de902dc-95ff-4599-c826-b713d1109975"
      },
      "execution_count": 104,
      "outputs": [
        {
          "output_type": "execute_result",
          "data": {
            "text/plain": [
              "((284736, 30), (284736,))"
            ]
          },
          "metadata": {},
          "execution_count": 104
        }
      ]
    },
    {
      "cell_type": "code",
      "source": [
        "#Verificando a quantidade de valores únicos antes do balanceamento\n",
        "np.unique(y, return_counts=True)"
      ],
      "metadata": {
        "colab": {
          "base_uri": "https://localhost:8080/"
        },
        "id": "t7h3NMMnQNM8",
        "outputId": "bf0bed00-4c92-4977-ff0a-d6479c2595d6"
      },
      "execution_count": 105,
      "outputs": [
        {
          "output_type": "execute_result",
          "data": {
            "text/plain": [
              "(array([0, 1]), array([284315,    492]))"
            ]
          },
          "metadata": {},
          "execution_count": 105
        }
      ]
    },
    {
      "cell_type": "code",
      "source": [
        "#Verificando a quantidade de valores únicos depois do balanceamento\n",
        "np.unique(y_tomek, return_counts=True)"
      ],
      "metadata": {
        "colab": {
          "base_uri": "https://localhost:8080/"
        },
        "id": "q8vcMpenRRim",
        "outputId": "d5d226fd-cb96-40a0-d09a-de317821855c"
      },
      "execution_count": 106,
      "outputs": [
        {
          "output_type": "execute_result",
          "data": {
            "text/plain": [
              "(array([0, 1]), array([284244,    492]))"
            ]
          },
          "metadata": {},
          "execution_count": 106
        }
      ]
    },
    {
      "cell_type": "code",
      "source": [
        "#Escalonando os dados em dados de treino e dados de teste após o balanceamento\n",
        "X_treinamento_tomek, X_teste_tomek, y_treinamento_tomek, y_teste_tomek = train_test_split(X_tomek, y_tomek)"
      ],
      "metadata": {
        "id": "rR_QBXrYRRvU"
      },
      "execution_count": 108,
      "outputs": []
    },
    {
      "cell_type": "code",
      "source": [
        "#Verificando a divisão após escalonamento com os dados balanceados\n",
        "X_treinamento_tomek.shape, y_treinamento_tomek.shape"
      ],
      "metadata": {
        "colab": {
          "base_uri": "https://localhost:8080/"
        },
        "id": "zrBpawjPU9PQ",
        "outputId": "429bfd60-da33-4a57-ffd5-435797199ad1"
      },
      "execution_count": 109,
      "outputs": [
        {
          "output_type": "execute_result",
          "data": {
            "text/plain": [
              "((213552, 30), (213552,))"
            ]
          },
          "metadata": {},
          "execution_count": 109
        }
      ]
    },
    {
      "cell_type": "markdown",
      "source": [
        "#Usando o Random Forest com os dados balanceados com o pacote TomekLinks.\n",
        "\n",
        "* Treinar o modelo usando o Regressão Logística;\n",
        "* Avaliar o modelo usando o Accuracy Score;\n",
        "* Avaliar o modelo com Classification Report;\n",
        "* Plotar a Matriz de confusão dos valores previstos e os valores reais."
      ],
      "metadata": {
        "id": "IQHCMpwCv14F"
      }
    },
    {
      "cell_type": "code",
      "source": [
        "#Treinando usando o Random Forest\n",
        "modelo_tomek_rf = RandomForestClassifier()\n",
        "modelo_tomek_rf.fit(X_treinamento_tomek, y_treinamento_tomek)"
      ],
      "metadata": {
        "colab": {
          "base_uri": "https://localhost:8080/"
        },
        "id": "kZtjL_T8U9fM",
        "outputId": "791a17d4-bcde-4be2-83b4-af307cb6d8a9"
      },
      "execution_count": 110,
      "outputs": [
        {
          "output_type": "execute_result",
          "data": {
            "text/plain": [
              "RandomForestClassifier()"
            ]
          },
          "metadata": {},
          "execution_count": 110
        }
      ]
    },
    {
      "cell_type": "code",
      "source": [
        "#Avaliando o modelo com o Accuracy Score\n",
        "previsoes_tomek_rf = modelo_tomek_rf.predict(X_teste_tomek)\n",
        "accuracy_score(previsoes_tomek_rf, y_teste_tomek)"
      ],
      "metadata": {
        "colab": {
          "base_uri": "https://localhost:8080/"
        },
        "id": "t-kmNbU3xRcW",
        "outputId": "b11bb3a5-ebf8-4ea0-fe11-ab22bc9baaad"
      },
      "execution_count": 111,
      "outputs": [
        {
          "output_type": "execute_result",
          "data": {
            "text/plain": [
              "0.9994380759721285"
            ]
          },
          "metadata": {},
          "execution_count": 111
        }
      ]
    },
    {
      "cell_type": "code",
      "source": [
        "#Avaliando com Classification Report\n",
        "print(classification_report(y_teste_tomek, previsoes_tomek_rf))"
      ],
      "metadata": {
        "colab": {
          "base_uri": "https://localhost:8080/"
        },
        "id": "8pSg1XzQ-Jlq",
        "outputId": "6c5552a5-d650-4b01-9d8b-540afd7c6dda"
      },
      "execution_count": 144,
      "outputs": [
        {
          "output_type": "stream",
          "name": "stdout",
          "text": [
            "              precision    recall  f1-score   support\n",
            "\n",
            "           0       1.00      1.00      1.00     71049\n",
            "           1       0.89      0.80      0.84       135\n",
            "\n",
            "    accuracy                           1.00     71184\n",
            "   macro avg       0.95      0.90      0.92     71184\n",
            "weighted avg       1.00      1.00      1.00     71184\n",
            "\n"
          ]
        }
      ]
    },
    {
      "cell_type": "code",
      "source": [
        "#Plotando a matriz de confusão\n",
        "fig, ax = plt.subplots()\n",
        "ax = sns.heatmap(confusion_matrix(y_teste_tomek, previsoes_tomek_rf), annot=True, square=True, cbar=False, fmt='.0f', ax=ax,  cmap='flag')\n",
        "plt.title('Matriz de Confusão')\n",
        "plt.xlabel('Previsão do modelo')\n",
        "plt.ylabel('Valor verdadeiro')\n",
        "plt.show()"
      ],
      "metadata": {
        "colab": {
          "base_uri": "https://localhost:8080/",
          "height": 295
        },
        "id": "9lxk0v9oWrrL",
        "outputId": "66a6b53d-e547-4d8d-f4e6-df6ae839d718"
      },
      "execution_count": 141,
      "outputs": [
        {
          "output_type": "display_data",
          "data": {
            "text/plain": [
              "<Figure size 432x288 with 1 Axes>"
            ],
            "image/png": "[encoded data removed]"
          },
          "metadata": {
            "needs_background": "light"
          }
        }
      ]
    },
    {
      "cell_type": "markdown",
      "source": [
        "#Usando o Regressão Logística com os dados balanceados com o pacote TomekLinks.\n",
        "\n",
        "* Treinar o modelo usando o Regressão Logística;\n",
        "* Avaliar o modelo usando o Accuracy Score;\n",
        "* Avaliar o modelo com Classification Report;\n",
        "* Plotar a Matriz de confusão dos valores previstos e os valores reais."
      ],
      "metadata": {
        "id": "zFPwYTEzwWku"
      }
    },
    {
      "cell_type": "code",
      "source": [
        "#Treinando o modelo com Regressão Logística\n",
        "modelo_tomek_rl = LogisticRegression()\n",
        "modelo_tomek_rl.fit(X_treinamento_tomek, y_treinamento_tomek)"
      ],
      "metadata": {
        "id": "tVPMFrv6W8eI"
      },
      "execution_count": null,
      "outputs": []
    },
    {
      "cell_type": "code",
      "source": [
        "#Avaliando o modelo com o Accuracy Score\n",
        "previsoes_tomek_rl = modelo_tomek_rl.predict(X_teste_tomek)\n",
        "accuracy_score(previsoes_tomek_rl, y_teste_tomek)"
      ],
      "metadata": {
        "colab": {
          "base_uri": "https://localhost:8080/"
        },
        "id": "hzHtiFkSxI2c",
        "outputId": "165d3657-3766-426a-a970-baf9cb751d05"
      },
      "execution_count": 116,
      "outputs": [
        {
          "output_type": "execute_result",
          "data": {
            "text/plain": [
              "0.9990306810519218"
            ]
          },
          "metadata": {},
          "execution_count": 116
        }
      ]
    },
    {
      "cell_type": "code",
      "source": [
        "#Avaliando com Classification Report\n",
        "print(classification_report(y_teste_tomek, previsoes_tomek_rl))"
      ],
      "metadata": {
        "colab": {
          "base_uri": "https://localhost:8080/"
        },
        "id": "LFD_s5qa-SmZ",
        "outputId": "946183fb-bebb-4d10-c7d2-83c90738237c"
      },
      "execution_count": 145,
      "outputs": [
        {
          "output_type": "stream",
          "name": "stdout",
          "text": [
            "              precision    recall  f1-score   support\n",
            "\n",
            "           0       1.00      1.00      1.00     71049\n",
            "           1       0.75      0.74      0.74       135\n",
            "\n",
            "    accuracy                           1.00     71184\n",
            "   macro avg       0.87      0.87      0.87     71184\n",
            "weighted avg       1.00      1.00      1.00     71184\n",
            "\n"
          ]
        }
      ]
    },
    {
      "cell_type": "code",
      "source": [
        "#Plotando a matriz de confusão\n",
        "fig, ax = plt.subplots()\n",
        "ax = sns.heatmap(confusion_matrix(y_teste_tomek, previsoes_tomek_rl), annot=True, square=True, cbar=False, fmt='.0f', ax=ax,  cmap='flag')\n",
        "plt.title('Matriz de Confusão')\n",
        "plt.xlabel('Previsão do modelo')\n",
        "plt.ylabel('Valor verdadeiro')\n",
        "plt.show()"
      ],
      "metadata": {
        "colab": {
          "base_uri": "https://localhost:8080/",
          "height": 295
        },
        "id": "XWPdtFfjddjf",
        "outputId": "f697be3d-81cd-4e58-86cb-f47ce2d4bc35"
      },
      "execution_count": 140,
      "outputs": [
        {
          "output_type": "display_data",
          "data": {
            "text/plain": [
              "<Figure size 432x288 with 1 Axes>"
            ],
            "image/png": "[encoded data removed]"
          },
          "metadata": {
            "needs_background": "light"
          }
        }
      ]
    },
    {
      "cell_type": "markdown",
      "source": [
        "#Usando o parâmetro de sobreamostragem para balanceamento - Smote\n",
        "\n",
        "Resumidamente esse modelo de balanceamento tem objetivo de deixar a quantidade de registros da classe minoritária próximo da classe majoritária.\n",
        "\n",
        "<p align=center><img src=\"https://miro.medium.com/max/1400/1*yRumRhn89acByodBz0H7oA.png\" width=\"70%\"></p>\n"
      ],
      "metadata": {
        "id": "aTq2AZBpWeqx"
      }
    },
    {
      "cell_type": "code",
      "source": [
        "#Importando o pacote SMOTE\n",
        "from imblearn.over_sampling import SMOTE"
      ],
      "metadata": {
        "id": "VNbi4kQ2WdXv"
      },
      "execution_count": 118,
      "outputs": []
    },
    {
      "cell_type": "code",
      "source": [
        "#Modelando os dados\n",
        "smote = SMOTE(sampling_strategy='minority')\n",
        "X_smote, y_smote = smote.fit_resample(X, y)"
      ],
      "metadata": {
        "id": "IJkQy4glWdnw"
      },
      "execution_count": 119,
      "outputs": []
    },
    {
      "cell_type": "code",
      "source": [
        "#Verificando os dados após balanceamento\n",
        "X_smote.shape, y_smote.shape"
      ],
      "metadata": {
        "colab": {
          "base_uri": "https://localhost:8080/"
        },
        "id": "Y6UibkVTWdtt",
        "outputId": "bcda9fde-c16d-488a-b56f-697b48bd8845"
      },
      "execution_count": 120,
      "outputs": [
        {
          "output_type": "execute_result",
          "data": {
            "text/plain": [
              "((568630, 30), (568630,))"
            ]
          },
          "metadata": {},
          "execution_count": 120
        }
      ]
    },
    {
      "cell_type": "code",
      "source": [
        "#Verificando a quantidade de valores unicos antes do balanceamento\n",
        "np.unique(y, return_counts=True)"
      ],
      "metadata": {
        "colab": {
          "base_uri": "https://localhost:8080/"
        },
        "id": "QHsDRAKuWd8h",
        "outputId": "2293f273-66fb-4bd4-aa90-ed7ae684a021"
      },
      "execution_count": 121,
      "outputs": [
        {
          "output_type": "execute_result",
          "data": {
            "text/plain": [
              "(array([0, 1]), array([284315,    492]))"
            ]
          },
          "metadata": {},
          "execution_count": 121
        }
      ]
    },
    {
      "cell_type": "code",
      "source": [
        "#Verificando a quantidade de valores unicos após o balanceamento\n",
        "np.unique(y_smote, return_counts=True)"
      ],
      "metadata": {
        "colab": {
          "base_uri": "https://localhost:8080/"
        },
        "id": "mI5n6SsrXblf",
        "outputId": "ec1a36ba-75cf-4730-b51d-bcf681a738cc"
      },
      "execution_count": 122,
      "outputs": [
        {
          "output_type": "execute_result",
          "data": {
            "text/plain": [
              "(array([0, 1]), array([284315, 284315]))"
            ]
          },
          "metadata": {},
          "execution_count": 122
        }
      ]
    },
    {
      "cell_type": "code",
      "source": [
        "#Escalonando os dados em dados de treino e dados de teste após o balanceamento\n",
        "X_treinamento_smote, X_teste_smote, y_treinamento_smote, y_teste_smote = train_test_split(X_smote, y_smote, test_size=0.2, stratify = y_smote)"
      ],
      "metadata": {
        "id": "a4e_jF_wXbsx"
      },
      "execution_count": 123,
      "outputs": []
    },
    {
      "cell_type": "code",
      "source": [
        "#Verificando a divisão após escalonamento com os dados balanceados\n",
        "X_teste_smote.shape, y_teste_smote.shape"
      ],
      "metadata": {
        "colab": {
          "base_uri": "https://localhost:8080/"
        },
        "id": "vQVH4d7aYF0R",
        "outputId": "f06d849b-109a-4579-9be5-e13229a32fba"
      },
      "execution_count": 124,
      "outputs": [
        {
          "output_type": "execute_result",
          "data": {
            "text/plain": [
              "((113726, 30), (113726,))"
            ]
          },
          "metadata": {},
          "execution_count": 124
        }
      ]
    },
    {
      "cell_type": "markdown",
      "source": [
        "#Usando o Random Forest com os dados balanceados com o pacote SMOTE.\n",
        "\n",
        "* Treinar o modelo usando o Random Forest;\n",
        "* Avaliar o modelo usando o Accuracy Score;\n",
        "* Avaliar o modelo com Classification Report;\n",
        "* Plotar a Matriz de confusão dos valores previstos e os valores reais."
      ],
      "metadata": {
        "id": "_JZC4Ngp0hFX"
      }
    },
    {
      "cell_type": "code",
      "source": [
        "#Treinando o modelo usando Random Forest\n",
        "modelo_smote_rf = RandomForestClassifier()\n",
        "modelo_smote_rf.fit(X_treinamento_smote, y_treinamento_smote)"
      ],
      "metadata": {
        "colab": {
          "base_uri": "https://localhost:8080/"
        },
        "id": "EJ_f5LfoYLTn",
        "outputId": "ef8d754e-ba8a-49e9-abc6-95e2b9ba28bf"
      },
      "execution_count": 125,
      "outputs": [
        {
          "output_type": "execute_result",
          "data": {
            "text/plain": [
              "RandomForestClassifier()"
            ]
          },
          "metadata": {},
          "execution_count": 125
        }
      ]
    },
    {
      "cell_type": "code",
      "source": [
        "#Avaliando o modelo com o Accuracy Score\n",
        "previsoes_smote_rf = modelo_smote_rf.predict(X_teste_smote)\n",
        "accuracy_score(previsoes_smote_rf, y_teste_smote)"
      ],
      "metadata": {
        "colab": {
          "base_uri": "https://localhost:8080/"
        },
        "id": "vL6fwSaN0mcB",
        "outputId": "96785628-912d-452c-b710-cd5384a2f271"
      },
      "execution_count": 126,
      "outputs": [
        {
          "output_type": "execute_result",
          "data": {
            "text/plain": [
              "0.999903276295658"
            ]
          },
          "metadata": {},
          "execution_count": 126
        }
      ]
    },
    {
      "cell_type": "code",
      "source": [
        "#Avaliando com Classification Report\n",
        "print(classification_report(y_teste_smote, previsoes_smote_rf))"
      ],
      "metadata": {
        "colab": {
          "base_uri": "https://localhost:8080/"
        },
        "id": "zFowLLOJ-gw_",
        "outputId": "80a4fff6-80f1-4bf7-b9de-c694c112761d"
      },
      "execution_count": 146,
      "outputs": [
        {
          "output_type": "stream",
          "name": "stdout",
          "text": [
            "              precision    recall  f1-score   support\n",
            "\n",
            "           0       1.00      1.00      1.00     56863\n",
            "           1       1.00      1.00      1.00     56863\n",
            "\n",
            "    accuracy                           1.00    113726\n",
            "   macro avg       1.00      1.00      1.00    113726\n",
            "weighted avg       1.00      1.00      1.00    113726\n",
            "\n"
          ]
        }
      ]
    },
    {
      "cell_type": "code",
      "source": [
        "#Plotando a matriz de confusão\n",
        "fig, ax = plt.subplots()\n",
        "ax = sns.heatmap(confusion_matrix(y_teste_smote, previsoes_smote_rf), annot=True, square=True, cbar=False, fmt='.0f', ax=ax,  cmap='flag')\n",
        "plt.title('Matriz de Confusão')\n",
        "plt.xlabel('Previsão do modelo')\n",
        "plt.ylabel('Valor verdadeiro')\n",
        "plt.show()"
      ],
      "metadata": {
        "colab": {
          "base_uri": "https://localhost:8080/",
          "height": 295
        },
        "id": "Rd8jQWBXeBED",
        "outputId": "6dc81312-f7f9-4cbe-f6ef-1afce6c1f7e2"
      },
      "execution_count": 149,
      "outputs": [
        {
          "output_type": "display_data",
          "data": {
            "text/plain": [
              "<Figure size 432x288 with 1 Axes>"
            ],
            "image/png": "[encoded data removed]"
          },
          "metadata": {
            "needs_background": "light"
          }
        }
      ]
    },
    {
      "cell_type": "markdown",
      "source": [
        "#Usando o Regressão Logística com os dados balanceados com o pacote SMOTE.\n",
        "\n",
        "* Treinar o modelo usando o Regressão Logística;\n",
        "* Avaliar o modelo usando o Accuracy Score;\n",
        "* Avaliar o modelo com Classification Report;\n",
        "* Plotar a Matriz de confusão dos valores previstos e os valores reais."
      ],
      "metadata": {
        "id": "oZ9YoceC2lls"
      }
    },
    {
      "cell_type": "code",
      "source": [
        "#Treinando o modelo usando Regressão Logística\n",
        "modelo_smote_rl = LogisticRegression()\n",
        "modelo_smote_rl.fit(X_treinamento_smote, y_treinamento_smote)"
      ],
      "metadata": {
        "colab": {
          "base_uri": "https://localhost:8080/"
        },
        "id": "T1sbvm-FeAzb",
        "outputId": "3b72668b-7f11-4455-e805-1bf6443eb5e4"
      },
      "execution_count": 128,
      "outputs": [
        {
          "output_type": "execute_result",
          "data": {
            "text/plain": [
              "LogisticRegression()"
            ]
          },
          "metadata": {},
          "execution_count": 128
        }
      ]
    },
    {
      "cell_type": "code",
      "source": [
        "#Avaliando o modelo com o Accuracy Score\n",
        "previsoes_smote_rl = modelo_smote_rl.predict(X_teste_smote)\n",
        "accuracy_score(previsoes_smote_rl, y_teste_smote)"
      ],
      "metadata": {
        "colab": {
          "base_uri": "https://localhost:8080/"
        },
        "id": "V6MNs16J2iCF",
        "outputId": "8b5ca621-1f02-4792-bf30-30eaf3818ec0"
      },
      "execution_count": 129,
      "outputs": [
        {
          "output_type": "execute_result",
          "data": {
            "text/plain": [
              "0.9587253574380529"
            ]
          },
          "metadata": {},
          "execution_count": 129
        }
      ]
    },
    {
      "cell_type": "code",
      "source": [
        "#Avaliando com Classification Report\n",
        "print(classification_report(y_teste_smote, previsoes_smote_rl))"
      ],
      "metadata": {
        "colab": {
          "base_uri": "https://localhost:8080/"
        },
        "id": "MI6IASzn-q1P",
        "outputId": "669cf8a9-8aed-49b5-8f8f-c78f48b31103"
      },
      "execution_count": 147,
      "outputs": [
        {
          "output_type": "stream",
          "name": "stdout",
          "text": [
            "              precision    recall  f1-score   support\n",
            "\n",
            "           0       0.95      0.97      0.96     56863\n",
            "           1       0.97      0.95      0.96     56863\n",
            "\n",
            "    accuracy                           0.96    113726\n",
            "   macro avg       0.96      0.96      0.96    113726\n",
            "weighted avg       0.96      0.96      0.96    113726\n",
            "\n"
          ]
        }
      ]
    },
    {
      "cell_type": "code",
      "source": [
        "#Plotando a matriz de confusão\n",
        "fig, ax = plt.subplots()\n",
        "ax = sns.heatmap(confusion_matrix(y_teste_smote, previsoes_smote_rl), annot=True, square=True, cbar=False, fmt='.0f', ax=ax,  cmap='flag')\n",
        "plt.title('Matriz de Confusão')\n",
        "plt.xlabel('Previsão do modelo')\n",
        "plt.ylabel('Valor verdadeiro')\n",
        "plt.show()"
      ],
      "metadata": {
        "colab": {
          "base_uri": "https://localhost:8080/",
          "height": 295
        },
        "id": "u6_6dBrteiEd",
        "outputId": "550e01c1-972d-4a6e-f4e7-760e7c27d9ae"
      },
      "execution_count": 148,
      "outputs": [
        {
          "output_type": "display_data",
          "data": {
            "text/plain": [
              "<Figure size 432x288 with 1 Axes>"
            ],
            "image/png": "[encoded data removed]"
          },
          "metadata": {
            "needs_background": "light"
          }
        }
      ]
    },
    {
      "cell_type": "markdown",
      "source": [
        "#Conclusão\n",
        "\n",
        "* Com os dados sem uso dos pacotes de balanceamento, podemos perceber que a Acurácia tanto no modelo com Random Forest quando o modelo com Regressão Logística ficaram acima de 99%, com uma diferença do Random Forest que conseguiu avaliar melhor e ter uma precisão superior ao modelo com a Regressão Logística.\n",
        "\n",
        "* Utilizando o pacote de balanceamento TomekLinks a Acurácia dos dois modelos ficaram acima de 99% porém diminuíram a Precisão e o Recall.\n",
        "\n",
        "* Utilizando o pacote de balanceamento SMOTE, o modelo com Regressão Logística teve um declínio na acuraria ficando em 95% e diminuíram drasticamente a Precisão e o Recall. Já no modelo com Random Forest teve a acurácia perto de 100% e ainda conseguiu atingir 100% de Precisão, se mostrando o modelo melhor avaliado nesse projeto.\n"
      ],
      "metadata": {
        "id": "Fd7rXFcw-_l2"
      }
    }
  ]
}